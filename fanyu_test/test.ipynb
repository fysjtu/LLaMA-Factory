{
 "cells": [
  {
   "cell_type": "code",
   "execution_count": null,
   "id": "dfb86648",
   "metadata": {
    "vscode": {
     "languageId": "plaintext"
    }
   },
   "outputs": [],
   "source": [
    "from transformers import pipeline\n",
    "\n",
    "# 自动选择默认模型（联网）或指定本地路径/仓库\n",
    "clf = pipeline(\"text-classification\")  # 情感分析等\n",
    "print(clf(\"I love this movie!\"))\n",
    "# [{'label': 'POSITIVE', 'score': 0.999...}]"
   ]
  }
 ],
 "metadata": {
  "language_info": {
   "name": "python"
  }
 },
 "nbformat": 4,
 "nbformat_minor": 5
}
